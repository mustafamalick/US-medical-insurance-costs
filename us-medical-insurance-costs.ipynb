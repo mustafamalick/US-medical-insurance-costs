{
 "cells": [
  {
   "cell_type": "markdown",
   "metadata": {},
   "source": [
    "# U.S. Medical Insurance Costs"
   ]
  },
  {
   "cell_type": "markdown",
   "metadata": {},
   "source": [
    "The goal of this analysis is to find the reltionship between human attributes and costs of medical inusrance in the US. Other insights can also be found in the process.\n",
    "\n"
   ]
  },
  {
   "cell_type": "markdown",
   "metadata": {},
   "source": [
    "Some possible ideas for analysis are the following:\n",
    "\n",
    "Find out the average age of the patients in the dataset.\n",
    "\n",
    "Analyze where a majority of the individuals are from. \n",
    "\n",
    "Look at the different costs between smokers vs. non-smokers. \n",
    "\n",
    "Figure out what the average age is for someone who has at least one child in this dataset."
   ]
  },
  {
   "cell_type": "code",
   "execution_count": 2,
   "metadata": {},
   "outputs": [],
   "source": [
    "import csv"
   ]
  },
  {
   "cell_type": "markdown",
   "metadata": {},
   "source": [
    "We start by importing all the necessary libraries eeded to compute the data. In our case, we only need the csv library to compute insurance.csv"
   ]
  },
  {
   "cell_type": "code",
   "execution_count": 3,
   "metadata": {},
   "outputs": [],
   "source": [
    "age = []\n",
    "sex = []\n",
    "bmi = []\n",
    "children = []\n",
    "smoker = []\n",
    "region = []\n",
    "charges = []"
   ]
  },
  {
   "cell_type": "markdown",
   "metadata": {},
   "source": [
    "Initialized the following column that were found in insurance.csv:\n",
    "\n",
    "Patient Age,\n",
    "Patient Sex,\n",
    "Patient BMI,\n",
    "Patient # of Children,\n",
    "Is Patient a Smoker,\n",
    "Region Patient lives in,\n",
    "Total Charges"
   ]
  },
  {
   "cell_type": "code",
   "execution_count": 4,
   "metadata": {},
   "outputs": [],
   "source": [
    "def listfiller(file_name,list_name,column_name):\n",
    "\twith open(file_name) as insurance:\n",
    "\t\tinsurance_csv = csv.DictReader(insurance)\n",
    "\t\tfor row in insurance_csv:\n",
    "\t\t\tlist_name.append(row[column_name])\n",
    "\n",
    "listfiller('insurance.csv', age, 'age')\n",
    "listfiller('insurance.csv', sex, 'sex')\n",
    "listfiller('insurance.csv', bmi, 'bmi')\n",
    "listfiller('insurance.csv', children, 'children')\n",
    "listfiller('insurance.csv', smoker, 'smoker')\n",
    "listfiller('insurance.csv', region, 'region')\n",
    "listfiller('insurance.csv', charges, 'charges')"
   ]
  },
  {
   "cell_type": "markdown",
   "metadata": {},
   "source": [
    "The function above is used to load data into the lists efficiently instead of running mutliple loops. Now we can easily load any new data from any updated dataset with one simple line calling the function.\n",
    "\n",
    "Using this we loaded all the data from our dataset and now we're ready to start analyzing."
   ]
  },
  {
   "cell_type": "code",
   "execution_count": 5,
   "metadata": {},
   "outputs": [
    {
     "name": "stdout",
     "output_type": "stream",
     "text": [
      "{'smokers': 274, 'smokers avg insurance': 32050.23183153285, 'non smokers': 1064, 'non smokers avg insurance': 8434.268297856199}\n"
     ]
    }
   ],
   "source": [
    "class PatientInfo:\n",
    "\tdef __init__(self, age, sex, bmi, children, smoker, region, charges):\n",
    "\t\tself.age = age\n",
    "\t\tself.sex = sex\n",
    "\t\tself.bmi = bmi\n",
    "\t\tself.children = children\n",
    "\t\tself.smoker = smoker\n",
    "\t\tself.region = region\n",
    "\t\tself.charges = charges\n",
    "\n",
    "\tdef analyzeSmokers(self):\n",
    "\t\tsmokes = 0\n",
    "\t\tnonsmokes = 0\n",
    "\t\tnonsmokecharge = 0\n",
    "\t\tsmokecharge = 0\n",
    "\t\tfor smoke, charge in zip(self.smoker,self.charges):\n",
    "\t\t\tif smoke == \"yes\":\n",
    "\t\t\t\tsmokes += 1\n",
    "\t\t\t\tsmokecharge += float(charge)\n",
    "\n",
    "\t\t\telse:\n",
    "\t\t\t\tnonsmokes += 1\n",
    "\t\t\t\tnonsmokecharge += float(charge)\n",
    "\n",
    "\t\tsmokersdict = {'smokers': smokes, 'smokers avg insurance': smokecharge/smokes, 'non smokers': nonsmokes, 'non smokers avg insurance': nonsmokecharge/nonsmokes}\n",
    "\t\treturn smokersdict\n",
    "\n",
    "patient_info = PatientInfo(age, sex, bmi, children, smoker, region, charges)\n",
    "smokerStats = patient_info.analyzeSmokers()\n",
    "print(smokerStats)"
   ]
  },
  {
   "cell_type": "markdown",
   "metadata": {},
   "source": [
    "This is the bulk of our analysis were we created a class for all of our patient info, with methods for all of our anlysis. \n",
    "\n",
    "the function analyzeSmokers() is used to compare the relationship between smokers and their relative insurance charges.\n",
    "\n",
    "we found that for every smoker, there are 4 times as many non smokers, yet the insurance for smokers is 4 times as much for smokers than it is for non smokers. An inverse proportion was witnessed."
   ]
  },
  {
   "cell_type": "code",
   "execution_count": null,
   "metadata": {},
   "outputs": [],
   "source": []
  }
 ],
 "metadata": {
  "kernelspec": {
   "display_name": "Python 3",
   "language": "python",
   "name": "python3"
  },
  "language_info": {
   "codemirror_mode": {
    "name": "ipython",
    "version": 3
   },
   "file_extension": ".py",
   "mimetype": "text/x-python",
   "name": "python",
   "nbconvert_exporter": "python",
   "pygments_lexer": "ipython3",
   "version": "3.8.5"
  }
 },
 "nbformat": 4,
 "nbformat_minor": 4
}
